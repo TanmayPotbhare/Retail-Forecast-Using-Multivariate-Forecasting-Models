{
 "cells": [
  {
   "cell_type": "markdown",
   "id": "cbb005b4",
   "metadata": {},
   "source": [
    "# Forecasting of Products at Item level in Weekly buckets\n",
    "To implement multivariate forecasting models in Python using parallel computing, you can follow these steps:\n",
    "\n",
    "    Import necessary libraries: Import required libraries such as pandas, numpy, sklearn, joblib, and multiprocessing.\n",
    "\n",
    "    Load the data: Load the data into a pandas dataframe.\n",
    "\n",
    "    Split the data into training and testing sets: Split the data into training and testing sets.\n",
    "\n",
    "    Define the features and target variables: Define the features and target variables for each model.\n",
    "\n",
    "    Define the models: Define five multivariate forecasting models that you want to use. For example, you can use Random Forest Regression, Gradient Boosting Regression, Lasso Regression, Ridge Regression, and XGBoost Regression.\n",
    "\n",
    "    Create a function to train each model: Create a function that trains each model on the training set and returns the trained model.\n",
    "\n",
    "    Create a function to predict using each model: Create a function that predicts using each model on the testing set and returns the predicted values.\n",
    "\n",
    "    Create a parallel processing function: Create a function that takes a list of models as input and uses the joblib library to parallelize the model training and prediction.\n",
    "\n",
    "    Call the parallel processing function: Call the parallel processing function and pass the list of models as input.\n",
    "\n",
    "    Evaluate the performance: Evaluate the performance of each model by calculating metrics such as Mean Squared Error (MSE), Root Mean Squared Error (RMSE), and Mean Absolute Error (MAE) on the testing set."
   ]
  },
  {
   "cell_type": "markdown",
   "id": "9946cc18",
   "metadata": {},
   "source": [
    "A forecast at item level in weekly buckets means predicting future demand or sales for each individual product on a weekly basis. This type of forecast is often used in retail or inventory management, where it is important to have a detailed understanding of product demand in order to optimize stock levels and ensure that there are enough products available to meet customer demand without overstocking and tying up capital.\n",
    "\n",
    "Forecasting at the item level in weekly buckets typically involves analyzing historical sales data for each product to identify trends, seasonal patterns, and other factors that influence sales. This information is then used to develop a statistical model that can be used to make predictions about future sales for each product on a weekly basis.\n",
    "\n",
    "Accurate forecasting at the item level in weekly buckets can help retailers optimize their inventory levels, improve supply chain efficiency, and ensure that they have the right products available at the right time to meet customer demand. It can also help retailers to identify opportunities to improve their marketing and promotional strategies by analyzing how different promotions and marketing initiatives impact sales for individual products over time."
   ]
  },
  {
   "cell_type": "code",
   "execution_count": 1,
   "id": "c8a19f55",
   "metadata": {},
   "outputs": [],
   "source": [
    "import pandas as pd\n",
    "import numpy as np\n",
    "import seaborn as sns\n",
    "import matplotlib.pyplot as plt\n",
    "%matplotlib inline"
   ]
  },
  {
   "cell_type": "code",
   "execution_count": 2,
   "id": "2feb1990",
   "metadata": {},
   "outputs": [],
   "source": [
    "data = pd.read_excel('Downloads/forecasting_case_study.xlsx')"
   ]
  },
  {
   "cell_type": "markdown",
   "id": "40ec4e31",
   "metadata": {},
   "source": [
    "This data is in a table format with each row representing the sales data of a specific product for a specific date. The columns represent different variables that can affect sales of the product, such as the sales price, discounts offered, in-store promotion, catalogue promotion, store end promotion, Google mobility, Covid_flag, and various holidays like V_DAY, EASTER, and CHRISTMAS.\n",
    "\n",
    "For example, the first row shows that for SKU1 product sold on 2017-02-05, there were no discounts or promotions offered, and there were no holidays that could have affected the sales. The sales amount was 27750. Similarly, each row shows sales data for a particular product on a particular date, along with the corresponding values of other variables that can affect sales.\n",
    "\n",
    "This data can be used to build a time series forecasting model to predict future sales of the products. The sales, price, discounts, promotions, and holiday variables can be used as input features to the forecasting model, and the date column can be used as the time index.\n"
   ]
  },
  {
   "cell_type": "code",
   "execution_count": 3,
   "id": "ad6a6d56",
   "metadata": {},
   "outputs": [
    {
     "data": {
      "text/html": [
       "<div>\n",
       "<style scoped>\n",
       "    .dataframe tbody tr th:only-of-type {\n",
       "        vertical-align: middle;\n",
       "    }\n",
       "\n",
       "    .dataframe tbody tr th {\n",
       "        vertical-align: top;\n",
       "    }\n",
       "\n",
       "    .dataframe thead th {\n",
       "        text-align: right;\n",
       "    }\n",
       "</style>\n",
       "<table border=\"1\" class=\"dataframe\">\n",
       "  <thead>\n",
       "    <tr style=\"text-align: right;\">\n",
       "      <th></th>\n",
       "      <th>Product</th>\n",
       "      <th>date</th>\n",
       "      <th>Sales</th>\n",
       "      <th>Price Discount (%)</th>\n",
       "      <th>In-Store Promo</th>\n",
       "      <th>Catalogue Promo</th>\n",
       "      <th>Store End Promo</th>\n",
       "      <th>Google_Mobility</th>\n",
       "      <th>Covid_Flag</th>\n",
       "      <th>V_DAY</th>\n",
       "      <th>EASTER</th>\n",
       "      <th>CHRISTMAS</th>\n",
       "    </tr>\n",
       "  </thead>\n",
       "  <tbody>\n",
       "    <tr>\n",
       "      <th>0</th>\n",
       "      <td>SKU1</td>\n",
       "      <td>2017-02-05</td>\n",
       "      <td>27750</td>\n",
       "      <td>0.00</td>\n",
       "      <td>0</td>\n",
       "      <td>0</td>\n",
       "      <td>0</td>\n",
       "      <td>0.0</td>\n",
       "      <td>0</td>\n",
       "      <td>0</td>\n",
       "      <td>0</td>\n",
       "      <td>0</td>\n",
       "    </tr>\n",
       "    <tr>\n",
       "      <th>1</th>\n",
       "      <td>SKU1</td>\n",
       "      <td>2017-02-12</td>\n",
       "      <td>29023</td>\n",
       "      <td>0.00</td>\n",
       "      <td>1</td>\n",
       "      <td>0</td>\n",
       "      <td>1</td>\n",
       "      <td>0.0</td>\n",
       "      <td>0</td>\n",
       "      <td>1</td>\n",
       "      <td>0</td>\n",
       "      <td>0</td>\n",
       "    </tr>\n",
       "    <tr>\n",
       "      <th>2</th>\n",
       "      <td>SKU1</td>\n",
       "      <td>2017-02-19</td>\n",
       "      <td>45630</td>\n",
       "      <td>0.17</td>\n",
       "      <td>0</td>\n",
       "      <td>0</td>\n",
       "      <td>0</td>\n",
       "      <td>0.0</td>\n",
       "      <td>0</td>\n",
       "      <td>0</td>\n",
       "      <td>0</td>\n",
       "      <td>0</td>\n",
       "    </tr>\n",
       "    <tr>\n",
       "      <th>3</th>\n",
       "      <td>SKU1</td>\n",
       "      <td>2017-02-26</td>\n",
       "      <td>26789</td>\n",
       "      <td>0.00</td>\n",
       "      <td>1</td>\n",
       "      <td>0</td>\n",
       "      <td>1</td>\n",
       "      <td>0.0</td>\n",
       "      <td>0</td>\n",
       "      <td>0</td>\n",
       "      <td>0</td>\n",
       "      <td>0</td>\n",
       "    </tr>\n",
       "    <tr>\n",
       "      <th>4</th>\n",
       "      <td>SKU1</td>\n",
       "      <td>2017-03-05</td>\n",
       "      <td>41999</td>\n",
       "      <td>0.17</td>\n",
       "      <td>0</td>\n",
       "      <td>0</td>\n",
       "      <td>0</td>\n",
       "      <td>0.0</td>\n",
       "      <td>0</td>\n",
       "      <td>0</td>\n",
       "      <td>0</td>\n",
       "      <td>0</td>\n",
       "    </tr>\n",
       "  </tbody>\n",
       "</table>\n",
       "</div>"
      ],
      "text/plain": [
       "  Product       date  Sales  Price Discount (%)  In-Store Promo  \\\n",
       "0    SKU1 2017-02-05  27750                0.00               0   \n",
       "1    SKU1 2017-02-12  29023                0.00               1   \n",
       "2    SKU1 2017-02-19  45630                0.17               0   \n",
       "3    SKU1 2017-02-26  26789                0.00               1   \n",
       "4    SKU1 2017-03-05  41999                0.17               0   \n",
       "\n",
       "   Catalogue Promo  Store End Promo  Google_Mobility  Covid_Flag  V_DAY  \\\n",
       "0                0                0              0.0           0      0   \n",
       "1                0                1              0.0           0      1   \n",
       "2                0                0              0.0           0      0   \n",
       "3                0                1              0.0           0      0   \n",
       "4                0                0              0.0           0      0   \n",
       "\n",
       "   EASTER  CHRISTMAS  \n",
       "0       0          0  \n",
       "1       0          0  \n",
       "2       0          0  \n",
       "3       0          0  \n",
       "4       0          0  "
      ]
     },
     "execution_count": 3,
     "metadata": {},
     "output_type": "execute_result"
    }
   ],
   "source": [
    "data.head()"
   ]
  },
  {
   "cell_type": "markdown",
   "id": "3602a5ff",
   "metadata": {},
   "source": [
    "### CHECKING FOR ANY NULL OR MISSING VALUES\n",
    "The first step you should do is to analyze and understand the data to identify any patterns, trends, and relationships between variables. This will help you determine which variables are important and how they affect the sales of the product.\n",
    "\n",
    "To start with, you should examine the variables in the dataset and their corresponding data types. Based on your earlier description, it appears that all the variables are numeric except for the product and date columns.\n",
    "\n",
    "You should also check if there are any missing values in the dataset and if so, how to handle them. Missing values can affect the accuracy of your analysis and forecast, so it is important to address them appropriately.\n",
    "\n",
    "After checking for missing values, you should then look for outliers and anomalies in the data. Outliers are data points that lie far away from the majority of the data, and they can significantly impact your analysis and forecast. You may need to remove or adjust these data points to ensure that your analysis and forecast are accurate.\n",
    "\n",
    "Finally, you should explore the relationships between variables and how they affect sales. For example, you may want to examine how changes in price discounts, promotions, or holidays impact sales. By understanding these relationships, you can develop a more accurate forecast model that takes into account various factors that affect sales."
   ]
  },
  {
   "cell_type": "code",
   "execution_count": 4,
   "id": "29bda3cd",
   "metadata": {},
   "outputs": [
    {
     "data": {
      "text/plain": [
       "Product               0\n",
       "date                  0\n",
       "Sales                 0\n",
       "Price Discount (%)    0\n",
       "In-Store Promo        0\n",
       "Catalogue Promo       0\n",
       "Store End Promo       0\n",
       "Google_Mobility       0\n",
       "Covid_Flag            0\n",
       "V_DAY                 0\n",
       "EASTER                0\n",
       "CHRISTMAS             0\n",
       "dtype: int64"
      ]
     },
     "execution_count": 4,
     "metadata": {},
     "output_type": "execute_result"
    }
   ],
   "source": [
    "data.isna().sum()"
   ]
  },
  {
   "cell_type": "code",
   "execution_count": 5,
   "id": "a26e15ba",
   "metadata": {},
   "outputs": [
    {
     "data": {
      "text/html": [
       "<div>\n",
       "<style scoped>\n",
       "    .dataframe tbody tr th:only-of-type {\n",
       "        vertical-align: middle;\n",
       "    }\n",
       "\n",
       "    .dataframe tbody tr th {\n",
       "        vertical-align: top;\n",
       "    }\n",
       "\n",
       "    .dataframe thead th {\n",
       "        text-align: right;\n",
       "    }\n",
       "</style>\n",
       "<table border=\"1\" class=\"dataframe\">\n",
       "  <thead>\n",
       "    <tr style=\"text-align: right;\">\n",
       "      <th></th>\n",
       "      <th>Sales</th>\n",
       "      <th>Price Discount (%)</th>\n",
       "      <th>In-Store Promo</th>\n",
       "      <th>Catalogue Promo</th>\n",
       "      <th>Store End Promo</th>\n",
       "      <th>Google_Mobility</th>\n",
       "      <th>Covid_Flag</th>\n",
       "      <th>V_DAY</th>\n",
       "      <th>EASTER</th>\n",
       "      <th>CHRISTMAS</th>\n",
       "    </tr>\n",
       "  </thead>\n",
       "  <tbody>\n",
       "    <tr>\n",
       "      <th>Sales</th>\n",
       "      <td>1.000000</td>\n",
       "      <td>0.403196</td>\n",
       "      <td>0.240891</td>\n",
       "      <td>-0.121081</td>\n",
       "      <td>0.235439</td>\n",
       "      <td>0.058781</td>\n",
       "      <td>-0.085571</td>\n",
       "      <td>-0.008442</td>\n",
       "      <td>-0.010266</td>\n",
       "      <td>-0.035916</td>\n",
       "    </tr>\n",
       "    <tr>\n",
       "      <th>Price Discount (%)</th>\n",
       "      <td>0.403196</td>\n",
       "      <td>1.000000</td>\n",
       "      <td>0.217904</td>\n",
       "      <td>-0.074055</td>\n",
       "      <td>0.216127</td>\n",
       "      <td>-0.213534</td>\n",
       "      <td>0.281537</td>\n",
       "      <td>-0.044565</td>\n",
       "      <td>0.000959</td>\n",
       "      <td>-0.012153</td>\n",
       "    </tr>\n",
       "    <tr>\n",
       "      <th>In-Store Promo</th>\n",
       "      <td>0.240891</td>\n",
       "      <td>0.217904</td>\n",
       "      <td>1.000000</td>\n",
       "      <td>-0.491438</td>\n",
       "      <td>0.367004</td>\n",
       "      <td>0.056074</td>\n",
       "      <td>-0.024732</td>\n",
       "      <td>0.019761</td>\n",
       "      <td>0.019761</td>\n",
       "      <td>0.013799</td>\n",
       "    </tr>\n",
       "    <tr>\n",
       "      <th>Catalogue Promo</th>\n",
       "      <td>-0.121081</td>\n",
       "      <td>-0.074055</td>\n",
       "      <td>-0.491438</td>\n",
       "      <td>1.000000</td>\n",
       "      <td>0.116301</td>\n",
       "      <td>0.073260</td>\n",
       "      <td>-0.094373</td>\n",
       "      <td>-0.044805</td>\n",
       "      <td>-0.044805</td>\n",
       "      <td>0.045834</td>\n",
       "    </tr>\n",
       "    <tr>\n",
       "      <th>Store End Promo</th>\n",
       "      <td>0.235439</td>\n",
       "      <td>0.216127</td>\n",
       "      <td>0.367004</td>\n",
       "      <td>0.116301</td>\n",
       "      <td>1.000000</td>\n",
       "      <td>0.084955</td>\n",
       "      <td>-0.075321</td>\n",
       "      <td>0.020148</td>\n",
       "      <td>-0.066610</td>\n",
       "      <td>-0.000322</td>\n",
       "    </tr>\n",
       "    <tr>\n",
       "      <th>Google_Mobility</th>\n",
       "      <td>0.058781</td>\n",
       "      <td>-0.213534</td>\n",
       "      <td>0.056074</td>\n",
       "      <td>0.073260</td>\n",
       "      <td>0.084955</td>\n",
       "      <td>1.000000</td>\n",
       "      <td>-0.756752</td>\n",
       "      <td>0.078227</td>\n",
       "      <td>-0.108645</td>\n",
       "      <td>0.003461</td>\n",
       "    </tr>\n",
       "    <tr>\n",
       "      <th>Covid_Flag</th>\n",
       "      <td>-0.085571</td>\n",
       "      <td>0.281537</td>\n",
       "      <td>-0.024732</td>\n",
       "      <td>-0.094373</td>\n",
       "      <td>-0.075321</td>\n",
       "      <td>-0.756752</td>\n",
       "      <td>1.000000</td>\n",
       "      <td>0.007924</td>\n",
       "      <td>0.007924</td>\n",
       "      <td>-0.003052</td>\n",
       "    </tr>\n",
       "    <tr>\n",
       "      <th>V_DAY</th>\n",
       "      <td>-0.008442</td>\n",
       "      <td>-0.044565</td>\n",
       "      <td>0.019761</td>\n",
       "      <td>-0.044805</td>\n",
       "      <td>0.020148</td>\n",
       "      <td>0.078227</td>\n",
       "      <td>0.007924</td>\n",
       "      <td>1.000000</td>\n",
       "      <td>-0.020101</td>\n",
       "      <td>-0.019669</td>\n",
       "    </tr>\n",
       "    <tr>\n",
       "      <th>EASTER</th>\n",
       "      <td>-0.010266</td>\n",
       "      <td>0.000959</td>\n",
       "      <td>0.019761</td>\n",
       "      <td>-0.044805</td>\n",
       "      <td>-0.066610</td>\n",
       "      <td>-0.108645</td>\n",
       "      <td>0.007924</td>\n",
       "      <td>-0.020101</td>\n",
       "      <td>1.000000</td>\n",
       "      <td>-0.019669</td>\n",
       "    </tr>\n",
       "    <tr>\n",
       "      <th>CHRISTMAS</th>\n",
       "      <td>-0.035916</td>\n",
       "      <td>-0.012153</td>\n",
       "      <td>0.013799</td>\n",
       "      <td>0.045834</td>\n",
       "      <td>-0.000322</td>\n",
       "      <td>0.003461</td>\n",
       "      <td>-0.003052</td>\n",
       "      <td>-0.019669</td>\n",
       "      <td>-0.019669</td>\n",
       "      <td>1.000000</td>\n",
       "    </tr>\n",
       "  </tbody>\n",
       "</table>\n",
       "</div>"
      ],
      "text/plain": [
       "                       Sales  Price Discount (%)  In-Store Promo  \\\n",
       "Sales               1.000000            0.403196        0.240891   \n",
       "Price Discount (%)  0.403196            1.000000        0.217904   \n",
       "In-Store Promo      0.240891            0.217904        1.000000   \n",
       "Catalogue Promo    -0.121081           -0.074055       -0.491438   \n",
       "Store End Promo     0.235439            0.216127        0.367004   \n",
       "Google_Mobility     0.058781           -0.213534        0.056074   \n",
       "Covid_Flag         -0.085571            0.281537       -0.024732   \n",
       "V_DAY              -0.008442           -0.044565        0.019761   \n",
       "EASTER             -0.010266            0.000959        0.019761   \n",
       "CHRISTMAS          -0.035916           -0.012153        0.013799   \n",
       "\n",
       "                    Catalogue Promo  Store End Promo  Google_Mobility  \\\n",
       "Sales                     -0.121081         0.235439         0.058781   \n",
       "Price Discount (%)        -0.074055         0.216127        -0.213534   \n",
       "In-Store Promo            -0.491438         0.367004         0.056074   \n",
       "Catalogue Promo            1.000000         0.116301         0.073260   \n",
       "Store End Promo            0.116301         1.000000         0.084955   \n",
       "Google_Mobility            0.073260         0.084955         1.000000   \n",
       "Covid_Flag                -0.094373        -0.075321        -0.756752   \n",
       "V_DAY                     -0.044805         0.020148         0.078227   \n",
       "EASTER                    -0.044805        -0.066610        -0.108645   \n",
       "CHRISTMAS                  0.045834        -0.000322         0.003461   \n",
       "\n",
       "                    Covid_Flag     V_DAY    EASTER  CHRISTMAS  \n",
       "Sales                -0.085571 -0.008442 -0.010266  -0.035916  \n",
       "Price Discount (%)    0.281537 -0.044565  0.000959  -0.012153  \n",
       "In-Store Promo       -0.024732  0.019761  0.019761   0.013799  \n",
       "Catalogue Promo      -0.094373 -0.044805 -0.044805   0.045834  \n",
       "Store End Promo      -0.075321  0.020148 -0.066610  -0.000322  \n",
       "Google_Mobility      -0.756752  0.078227 -0.108645   0.003461  \n",
       "Covid_Flag            1.000000  0.007924  0.007924  -0.003052  \n",
       "V_DAY                 0.007924  1.000000 -0.020101  -0.019669  \n",
       "EASTER                0.007924 -0.020101  1.000000  -0.019669  \n",
       "CHRISTMAS            -0.003052 -0.019669 -0.019669   1.000000  "
      ]
     },
     "execution_count": 5,
     "metadata": {},
     "output_type": "execute_result"
    }
   ],
   "source": [
    "data.corr()"
   ]
  },
  {
   "cell_type": "code",
   "execution_count": 6,
   "id": "0e2d2fbe",
   "metadata": {},
   "outputs": [
    {
     "data": {
      "text/plain": [
       "<AxesSubplot:>"
      ]
     },
     "execution_count": 6,
     "metadata": {},
     "output_type": "execute_result"
    },
    {
     "data": {
      "image/png": "[encoded data removed]",
      "text/plain": [
       "<Figure size 640x480 with 2 Axes>"
      ]
     },
     "metadata": {},
     "output_type": "display_data"
    }
   ],
   "source": [
    "sns.heatmap(data.corr(),annot=True)"
   ]
  },
  {
   "cell_type": "markdown",
   "id": "40ad5c67",
   "metadata": {},
   "source": [
    "Coverting Date to Datetime Object and Using it as index"
   ]
  },
  {
   "cell_type": "code",
   "execution_count": 7,
   "id": "338ab557",
   "metadata": {},
   "outputs": [
    {
     "data": {
      "text/plain": [
       "0      2017-02-05\n",
       "1      2017-02-12\n",
       "2      2017-02-19\n",
       "3      2017-02-26\n",
       "4      2017-03-05\n",
       "          ...    \n",
       "1213   2020-10-18\n",
       "1214   2020-10-25\n",
       "1215   2020-11-01\n",
       "1216   2020-11-08\n",
       "1217   2020-11-15\n",
       "Name: date, Length: 1218, dtype: datetime64[ns]"
      ]
     },
     "execution_count": 7,
     "metadata": {},
     "output_type": "execute_result"
    }
   ],
   "source": [
    "data['date']= pd.to_datetime(data['date'])\n",
    "data['date']"
   ]
  },
  {
   "cell_type": "code",
   "execution_count": 30,
   "id": "f1bafb49",
   "metadata": {},
   "outputs": [],
   "source": [
    "data.set_index('date', inplace=True)"
   ]
  },
  {
   "cell_type": "code",
   "execution_count": 32,
   "id": "aaebf3e1",
   "metadata": {},
   "outputs": [],
   "source": [
    "data['day'] = data.index.day\n",
    "data['year'] = data.index.year\n"
   ]
  },
  {
   "cell_type": "code",
   "execution_count": 33,
   "id": "657af13c",
   "metadata": {},
   "outputs": [
    {
     "data": {
      "text/html": [
       "<div>\n",
       "<style scoped>\n",
       "    .dataframe tbody tr th:only-of-type {\n",
       "        vertical-align: middle;\n",
       "    }\n",
       "\n",
       "    .dataframe tbody tr th {\n",
       "        vertical-align: top;\n",
       "    }\n",
       "\n",
       "    .dataframe thead th {\n",
       "        text-align: right;\n",
       "    }\n",
       "</style>\n",
       "<table border=\"1\" class=\"dataframe\">\n",
       "  <thead>\n",
       "    <tr style=\"text-align: right;\">\n",
       "      <th></th>\n",
       "      <th>Product</th>\n",
       "      <th>Sales</th>\n",
       "      <th>Price Discount (%)</th>\n",
       "      <th>In-Store Promo</th>\n",
       "      <th>Catalogue Promo</th>\n",
       "      <th>Store End Promo</th>\n",
       "      <th>Google_Mobility</th>\n",
       "      <th>Covid_Flag</th>\n",
       "      <th>V_DAY</th>\n",
       "      <th>EASTER</th>\n",
       "      <th>CHRISTMAS</th>\n",
       "      <th>day</th>\n",
       "      <th>year</th>\n",
       "    </tr>\n",
       "    <tr>\n",
       "      <th>date</th>\n",
       "      <th></th>\n",
       "      <th></th>\n",
       "      <th></th>\n",
       "      <th></th>\n",
       "      <th></th>\n",
       "      <th></th>\n",
       "      <th></th>\n",
       "      <th></th>\n",
       "      <th></th>\n",
       "      <th></th>\n",
       "      <th></th>\n",
       "      <th></th>\n",
       "      <th></th>\n",
       "    </tr>\n",
       "  </thead>\n",
       "  <tbody>\n",
       "    <tr>\n",
       "      <th>2017-02-05</th>\n",
       "      <td>SKU1</td>\n",
       "      <td>27750</td>\n",
       "      <td>0.00</td>\n",
       "      <td>0</td>\n",
       "      <td>0</td>\n",
       "      <td>0</td>\n",
       "      <td>0.0</td>\n",
       "      <td>0</td>\n",
       "      <td>0</td>\n",
       "      <td>0</td>\n",
       "      <td>0</td>\n",
       "      <td>5</td>\n",
       "      <td>2017</td>\n",
       "    </tr>\n",
       "    <tr>\n",
       "      <th>2017-02-12</th>\n",
       "      <td>SKU1</td>\n",
       "      <td>29023</td>\n",
       "      <td>0.00</td>\n",
       "      <td>1</td>\n",
       "      <td>0</td>\n",
       "      <td>1</td>\n",
       "      <td>0.0</td>\n",
       "      <td>0</td>\n",
       "      <td>1</td>\n",
       "      <td>0</td>\n",
       "      <td>0</td>\n",
       "      <td>12</td>\n",
       "      <td>2017</td>\n",
       "    </tr>\n",
       "    <tr>\n",
       "      <th>2017-02-19</th>\n",
       "      <td>SKU1</td>\n",
       "      <td>45630</td>\n",
       "      <td>0.17</td>\n",
       "      <td>0</td>\n",
       "      <td>0</td>\n",
       "      <td>0</td>\n",
       "      <td>0.0</td>\n",
       "      <td>0</td>\n",
       "      <td>0</td>\n",
       "      <td>0</td>\n",
       "      <td>0</td>\n",
       "      <td>19</td>\n",
       "      <td>2017</td>\n",
       "    </tr>\n",
       "    <tr>\n",
       "      <th>2017-02-26</th>\n",
       "      <td>SKU1</td>\n",
       "      <td>26789</td>\n",
       "      <td>0.00</td>\n",
       "      <td>1</td>\n",
       "      <td>0</td>\n",
       "      <td>1</td>\n",
       "      <td>0.0</td>\n",
       "      <td>0</td>\n",
       "      <td>0</td>\n",
       "      <td>0</td>\n",
       "      <td>0</td>\n",
       "      <td>26</td>\n",
       "      <td>2017</td>\n",
       "    </tr>\n",
       "    <tr>\n",
       "      <th>2017-03-05</th>\n",
       "      <td>SKU1</td>\n",
       "      <td>41999</td>\n",
       "      <td>0.17</td>\n",
       "      <td>0</td>\n",
       "      <td>0</td>\n",
       "      <td>0</td>\n",
       "      <td>0.0</td>\n",
       "      <td>0</td>\n",
       "      <td>0</td>\n",
       "      <td>0</td>\n",
       "      <td>0</td>\n",
       "      <td>5</td>\n",
       "      <td>2017</td>\n",
       "    </tr>\n",
       "  </tbody>\n",
       "</table>\n",
       "</div>"
      ],
      "text/plain": [
       "           Product  Sales  Price Discount (%)  In-Store Promo  \\\n",
       "date                                                            \n",
       "2017-02-05    SKU1  27750                0.00               0   \n",
       "2017-02-12    SKU1  29023                0.00               1   \n",
       "2017-02-19    SKU1  45630                0.17               0   \n",
       "2017-02-26    SKU1  26789                0.00               1   \n",
       "2017-03-05    SKU1  41999                0.17               0   \n",
       "\n",
       "            Catalogue Promo  Store End Promo  Google_Mobility  Covid_Flag  \\\n",
       "date                                                                        \n",
       "2017-02-05                0                0              0.0           0   \n",
       "2017-02-12                0                1              0.0           0   \n",
       "2017-02-19                0                0              0.0           0   \n",
       "2017-02-26                0                1              0.0           0   \n",
       "2017-03-05                0                0              0.0           0   \n",
       "\n",
       "            V_DAY  EASTER  CHRISTMAS  day  year  \n",
       "date                                             \n",
       "2017-02-05      0       0          0    5  2017  \n",
       "2017-02-12      1       0          0   12  2017  \n",
       "2017-02-19      0       0          0   19  2017  \n",
       "2017-02-26      0       0          0   26  2017  \n",
       "2017-03-05      0       0          0    5  2017  "
      ]
     },
     "execution_count": 33,
     "metadata": {},
     "output_type": "execute_result"
    }
   ],
   "source": [
    "data.head()"
   ]
  },
  {
   "cell_type": "code",
   "execution_count": 37,
   "id": "78d88a5e",
   "metadata": {},
   "outputs": [
    {
     "data": {
      "text/plain": [
       "array(['SKU1', 'SKU2', 'SKU3', 'SKU4', 'SKU5', 'SKU6'], dtype=object)"
      ]
     },
     "execution_count": 37,
     "metadata": {},
     "output_type": "execute_result"
    }
   ],
   "source": [
    "data['Product'].unique()"
   ]
  },
  {
   "cell_type": "markdown",
   "id": "d4637573",
   "metadata": {},
   "source": [
    "### The date ranges from 2017 February to 2020 December"
   ]
  },
  {
   "cell_type": "code",
   "execution_count": 35,
   "id": "b0410575",
   "metadata": {},
   "outputs": [
    {
     "data": {
      "text/plain": [
       "array([2017, 2018, 2019, 2020], dtype=int64)"
      ]
     },
     "execution_count": 35,
     "metadata": {},
     "output_type": "execute_result"
    }
   ],
   "source": [
    "data['year'].unique()"
   ]
  },
  {
   "cell_type": "code",
   "execution_count": 12,
   "id": "344c8bfa",
   "metadata": {},
   "outputs": [
    {
     "data": {
      "text/plain": [
       "array([  0.  ,   2.36,   3.3 ,   3.9 ,   3.81,   3.01,   0.26, -15.7 ,\n",
       "       -26.63, -28.49, -27.3 , -24.28, -22.58, -18.18, -15.91, -15.27,\n",
       "       -13.24, -10.86, -10.13,  -8.68,  -8.57,  -7.5 ,  -8.04,  -9.36,\n",
       "        -8.77,  -9.93, -11.65, -13.23, -20.35, -19.41, -18.83, -16.44,\n",
       "        -7.28,  -9.87,  -7.79,  -9.73,  -7.39,  -7.56,  -8.39,  -7.43,\n",
       "        -5.95,  -7.2 ,  -5.96,  -5.3 ,  -4.38,  -4.74, -10.27,  -6.95])"
      ]
     },
     "execution_count": 12,
     "metadata": {},
     "output_type": "execute_result"
    }
   ],
   "source": [
    "data['Google_Mobility'].unique()"
   ]
  },
  {
   "cell_type": "code",
   "execution_count": 13,
   "id": "4b59d01e",
   "metadata": {},
   "outputs": [
    {
     "data": {
      "text/plain": [
       "array([0.  , 0.17, 0.44, 0.06, 0.28, 0.13, 0.04, 0.01, 0.02, 0.45, 0.03,\n",
       "       0.18, 0.12, 0.16, 0.15, 0.14, 0.25, 0.5 , 0.05, 0.26, 0.27, 0.23,\n",
       "       0.22, 0.21, 0.3 , 0.2 , 0.4 , 0.42, 0.07, 0.09, 0.43, 0.38, 0.49,\n",
       "       0.55, 0.35, 0.41, 0.33, 0.48, 0.51, 0.52, 0.34, 0.54, 0.32, 0.36,\n",
       "       0.8 , 0.67, 0.74, 0.68, 0.77, 0.83, 0.71, 0.73, 0.75, 0.1 , 0.08,\n",
       "       0.24, 0.47, 0.46, 0.37, 0.53, 0.7 , 0.62, 0.65, 0.66, 0.58, 0.6 ,\n",
       "       0.61, 0.69, 0.64, 0.29])"
      ]
     },
     "execution_count": 13,
     "metadata": {},
     "output_type": "execute_result"
    }
   ],
   "source": [
    "data['Price Discount (%)'].unique()"
   ]
  },
  {
   "cell_type": "code",
   "execution_count": 14,
   "id": "3e187f24",
   "metadata": {},
   "outputs": [
    {
     "name": "stdout",
     "output_type": "stream",
     "text": [
      "2020-12-27 00:00:00\n",
      "2017-02-05 00:00:00\n"
     ]
    }
   ],
   "source": [
    "maxdate = data['date'].max()\n",
    "mindate = data['date'].min()\n",
    "print(maxdate)\n",
    "print(mindate)"
   ]
  },
  {
   "cell_type": "code",
   "execution_count": 15,
   "id": "7b9c48c9",
   "metadata": {},
   "outputs": [
    {
     "name": "stdout",
     "output_type": "stream",
     "text": [
      "288322\n",
      "0\n"
     ]
    }
   ],
   "source": [
    "maxsales = data['Sales'].max()\n",
    "minsales = data['Sales'].min()\n",
    "print(maxsales)\n",
    "print(minsales)"
   ]
  },
  {
   "cell_type": "code",
   "execution_count": 16,
   "id": "794a2b15",
   "metadata": {},
   "outputs": [
    {
     "data": {
      "text/plain": [
       "SKU1    204\n",
       "SKU2    204\n",
       "SKU3    204\n",
       "SKU4    204\n",
       "SKU5    204\n",
       "SKU6    198\n",
       "Name: Product, dtype: int64"
      ]
     },
     "execution_count": 16,
     "metadata": {},
     "output_type": "execute_result"
    }
   ],
   "source": [
    "data['Product'].value_counts()"
   ]
  },
  {
   "cell_type": "code",
   "execution_count": 17,
   "id": "cb776358",
   "metadata": {},
   "outputs": [
    {
     "data": {
      "text/plain": [
       "<AxesSubplot:xlabel='Product', ylabel='Sales'>"
      ]
     },
     "execution_count": 17,
     "metadata": {},
     "output_type": "execute_result"
    },
    {
     "data": {
      "image/png": "[encoded data removed]",
      "text/plain": [
       "<Figure size 640x480 with 1 Axes>"
      ]
     },
     "metadata": {},
     "output_type": "display_data"
    }
   ],
   "source": [
    "sns.barplot(x='Product',y='Sales',data=data)"
   ]
  },
  {
   "cell_type": "code",
   "execution_count": 18,
   "id": "9e9112d6",
   "metadata": {},
   "outputs": [
    {
     "data": {
      "text/plain": [
       "<AxesSubplot:xlabel='Product', ylabel='Price Discount (%)'>"
      ]
     },
     "execution_count": 18,
     "metadata": {},
     "output_type": "execute_result"
    },
    {
     "data": {
      "image/png": "[encoded data removed]",
      "text/plain": [
       "<Figure size 640x480 with 1 Axes>"
      ]
     },
     "metadata": {},
     "output_type": "display_data"
    }
   ],
   "source": [
    "sns.barplot(x='Product',y='Price Discount (%)',data=data)"
   ]
  },
  {
   "cell_type": "code",
   "execution_count": 19,
   "id": "ebd94b2c",
   "metadata": {},
   "outputs": [
    {
     "data": {
      "text/plain": [
       "<AxesSubplot:xlabel='Product', ylabel='In-Store Promo'>"
      ]
     },
     "execution_count": 19,
     "metadata": {},
     "output_type": "execute_result"
    },
    {
     "data": {
      "image/png": "[encoded data removed]",
      "text/plain": [
       "<Figure size 640x480 with 1 Axes>"
      ]
     },
     "metadata": {},
     "output_type": "display_data"
    }
   ],
   "source": [
    "sns.barplot(x='Product',y='In-Store Promo',data=data)"
   ]
  },
  {
   "cell_type": "code",
   "execution_count": null,
   "id": "fa013982",
   "metadata": {},
   "outputs": [],
   "source": []
  },
  {
   "cell_type": "markdown",
   "id": "1c621eda",
   "metadata": {},
   "source": [
    "### CHECKING FOR ANY OUTLIERS\n",
    "Outliers are observations that are significantly different from other observations in the dataset, and they can occur due to various reasons, such as measurement errors or unusual events. In time series analysis, outliers can have a significant impact on the forecast accuracy, and it's important to detect and handle them appropriately.\n",
    "\n",
    "One common method to detect outliers in time series data is by visual inspection of the data using time series plots. A time series plot shows the trend and seasonality in the data over time and allows us to identify any unusual observations that deviate from the overall pattern.\n",
    "\n",
    "Another approach to detect outliers is by using statistical methods, such as the boxplot or the z-score. The boxplot is a graphical representation of the data distribution, and it can identify any observations that fall outside the whiskers of the boxplot. The z-score, on the other hand, measures the deviation of an observation from the mean of the data in terms of the standard deviation, and any observation with a z-score greater than a certain threshold is considered an outlier.\n",
    "\n",
    "Once the outliers are identified, there are different methods to handle them. One approach is to remove them from the dataset, which can be appropriate if they are due to measurement errors or data entry mistakes. Another approach is to replace the outliers with a more appropriate value, such as the mean or median of the surrounding data points or a value predicted by a statistical model. Additionally, it may be necessary to investigate the root cause of the outliers and address any underlying issues to prevent them from occurring in the future.\n",
    "\n",
    "In summary, the first step to detect outliers in time series data is to visually inspect the data using time series plots or use statistical methods such as the boxplot or z-score. Once the outliers are identified, appropriate methods can be applied to handle them, such as removal or replacement with an appropriate value."
   ]
  },
  {
   "cell_type": "code",
   "execution_count": 20,
   "id": "7773b63a",
   "metadata": {},
   "outputs": [
    {
     "data": {
      "text/plain": [
       "Index(['Product', 'date', 'Sales', 'Price Discount (%)', 'In-Store Promo',\n",
       "       'Catalogue Promo', 'Store End Promo', 'Google_Mobility', 'Covid_Flag',\n",
       "       'V_DAY', 'EASTER', 'CHRISTMAS'],\n",
       "      dtype='object')"
      ]
     },
     "execution_count": 20,
     "metadata": {},
     "output_type": "execute_result"
    }
   ],
   "source": [
    "data.columns"
   ]
  },
  {
   "cell_type": "code",
   "execution_count": 73,
   "id": "23d23496",
   "metadata": {},
   "outputs": [
    {
     "name": "stdout",
     "output_type": "stream",
     "text": [
      "\u001b[1m Indices of outliers: \u001b[0m\n",
      "(array([], dtype=int64),)\n"
     ]
    }
   ],
   "source": [
    "OutlierData = df_copied['In-Store Promo']\n",
    "\n",
    "mean = OutlierData.mean()\n",
    "\n",
    "stdn = OutlierData.std()\n",
    "\n",
    "zscore = (OutlierData - mean)/stdn\n",
    "\n",
    "threshold = zscore > 3\n",
    "\n",
    "outliers = np.where(threshold == True)\n",
    "print(\"\\033[1m Indices of outliers: \\033[0m\")\n",
    "print(outliers)"
   ]
  },
  {
   "cell_type": "code",
   "execution_count": 82,
   "id": "cab4a9ed",
   "metadata": {},
   "outputs": [
    {
     "data": {
      "text/plain": [
       "Product               0\n",
       "Sales                 0\n",
       "Price Discount (%)    0\n",
       "In-Store Promo        0\n",
       "Catalogue Promo       0\n",
       "Store End Promo       0\n",
       "Google_Mobility       0\n",
       "Covid_Flag            0\n",
       "V_DAY                 0\n",
       "EASTER                0\n",
       "CHRISTMAS             0\n",
       "day                   0\n",
       "year                  0\n",
       "dtype: int64"
      ]
     },
     "execution_count": 82,
     "metadata": {},
     "output_type": "execute_result"
    }
   ],
   "source": [
    "data.isna().sum()"
   ]
  },
  {
   "cell_type": "code",
   "execution_count": 76,
   "id": "d2834e74",
   "metadata": {},
   "outputs": [
    {
     "data": {
      "text/html": [
       "<div>\n",
       "<style scoped>\n",
       "    .dataframe tbody tr th:only-of-type {\n",
       "        vertical-align: middle;\n",
       "    }\n",
       "\n",
       "    .dataframe tbody tr th {\n",
       "        vertical-align: top;\n",
       "    }\n",
       "\n",
       "    .dataframe thead th {\n",
       "        text-align: right;\n",
       "    }\n",
       "</style>\n",
       "<table border=\"1\" class=\"dataframe\">\n",
       "  <thead>\n",
       "    <tr style=\"text-align: right;\">\n",
       "      <th></th>\n",
       "      <th>Product</th>\n",
       "      <th>Sales</th>\n",
       "      <th>Price Discount (%)</th>\n",
       "      <th>In-Store Promo</th>\n",
       "      <th>Catalogue Promo</th>\n",
       "      <th>Store End Promo</th>\n",
       "      <th>Google_Mobility</th>\n",
       "      <th>Covid_Flag</th>\n",
       "      <th>V_DAY</th>\n",
       "      <th>EASTER</th>\n",
       "      <th>CHRISTMAS</th>\n",
       "      <th>day</th>\n",
       "      <th>year</th>\n",
       "    </tr>\n",
       "    <tr>\n",
       "      <th>date</th>\n",
       "      <th></th>\n",
       "      <th></th>\n",
       "      <th></th>\n",
       "      <th></th>\n",
       "      <th></th>\n",
       "      <th></th>\n",
       "      <th></th>\n",
       "      <th></th>\n",
       "      <th></th>\n",
       "      <th></th>\n",
       "      <th></th>\n",
       "      <th></th>\n",
       "      <th></th>\n",
       "    </tr>\n",
       "  </thead>\n",
       "  <tbody>\n",
       "    <tr>\n",
       "      <th>2017-02-05</th>\n",
       "      <td>SKU1</td>\n",
       "      <td>27750</td>\n",
       "      <td>0.00</td>\n",
       "      <td>0</td>\n",
       "      <td>0</td>\n",
       "      <td>0</td>\n",
       "      <td>0.00</td>\n",
       "      <td>0</td>\n",
       "      <td>0</td>\n",
       "      <td>0</td>\n",
       "      <td>0</td>\n",
       "      <td>5</td>\n",
       "      <td>2017</td>\n",
       "    </tr>\n",
       "    <tr>\n",
       "      <th>2017-02-12</th>\n",
       "      <td>SKU1</td>\n",
       "      <td>29023</td>\n",
       "      <td>0.00</td>\n",
       "      <td>1</td>\n",
       "      <td>0</td>\n",
       "      <td>1</td>\n",
       "      <td>0.00</td>\n",
       "      <td>0</td>\n",
       "      <td>1</td>\n",
       "      <td>0</td>\n",
       "      <td>0</td>\n",
       "      <td>12</td>\n",
       "      <td>2017</td>\n",
       "    </tr>\n",
       "    <tr>\n",
       "      <th>2017-02-19</th>\n",
       "      <td>SKU1</td>\n",
       "      <td>45630</td>\n",
       "      <td>0.17</td>\n",
       "      <td>0</td>\n",
       "      <td>0</td>\n",
       "      <td>0</td>\n",
       "      <td>0.00</td>\n",
       "      <td>0</td>\n",
       "      <td>0</td>\n",
       "      <td>0</td>\n",
       "      <td>0</td>\n",
       "      <td>19</td>\n",
       "      <td>2017</td>\n",
       "    </tr>\n",
       "    <tr>\n",
       "      <th>2017-02-26</th>\n",
       "      <td>SKU1</td>\n",
       "      <td>26789</td>\n",
       "      <td>0.00</td>\n",
       "      <td>1</td>\n",
       "      <td>0</td>\n",
       "      <td>1</td>\n",
       "      <td>0.00</td>\n",
       "      <td>0</td>\n",
       "      <td>0</td>\n",
       "      <td>0</td>\n",
       "      <td>0</td>\n",
       "      <td>26</td>\n",
       "      <td>2017</td>\n",
       "    </tr>\n",
       "    <tr>\n",
       "      <th>2017-03-05</th>\n",
       "      <td>SKU1</td>\n",
       "      <td>41999</td>\n",
       "      <td>0.17</td>\n",
       "      <td>0</td>\n",
       "      <td>0</td>\n",
       "      <td>0</td>\n",
       "      <td>0.00</td>\n",
       "      <td>0</td>\n",
       "      <td>0</td>\n",
       "      <td>0</td>\n",
       "      <td>0</td>\n",
       "      <td>5</td>\n",
       "      <td>2017</td>\n",
       "    </tr>\n",
       "    <tr>\n",
       "      <th>...</th>\n",
       "      <td>...</td>\n",
       "      <td>...</td>\n",
       "      <td>...</td>\n",
       "      <td>...</td>\n",
       "      <td>...</td>\n",
       "      <td>...</td>\n",
       "      <td>...</td>\n",
       "      <td>...</td>\n",
       "      <td>...</td>\n",
       "      <td>...</td>\n",
       "      <td>...</td>\n",
       "      <td>...</td>\n",
       "      <td>...</td>\n",
       "    </tr>\n",
       "    <tr>\n",
       "      <th>2020-10-18</th>\n",
       "      <td>SKU6</td>\n",
       "      <td>96619</td>\n",
       "      <td>0.54</td>\n",
       "      <td>0</td>\n",
       "      <td>1</td>\n",
       "      <td>0</td>\n",
       "      <td>-7.56</td>\n",
       "      <td>1</td>\n",
       "      <td>0</td>\n",
       "      <td>0</td>\n",
       "      <td>0</td>\n",
       "      <td>18</td>\n",
       "      <td>2020</td>\n",
       "    </tr>\n",
       "    <tr>\n",
       "      <th>2020-10-25</th>\n",
       "      <td>SKU6</td>\n",
       "      <td>115798</td>\n",
       "      <td>0.52</td>\n",
       "      <td>0</td>\n",
       "      <td>1</td>\n",
       "      <td>0</td>\n",
       "      <td>-8.39</td>\n",
       "      <td>1</td>\n",
       "      <td>0</td>\n",
       "      <td>0</td>\n",
       "      <td>0</td>\n",
       "      <td>25</td>\n",
       "      <td>2020</td>\n",
       "    </tr>\n",
       "    <tr>\n",
       "      <th>2020-11-01</th>\n",
       "      <td>SKU6</td>\n",
       "      <td>152186</td>\n",
       "      <td>0.54</td>\n",
       "      <td>1</td>\n",
       "      <td>0</td>\n",
       "      <td>1</td>\n",
       "      <td>-7.43</td>\n",
       "      <td>1</td>\n",
       "      <td>0</td>\n",
       "      <td>0</td>\n",
       "      <td>0</td>\n",
       "      <td>1</td>\n",
       "      <td>2020</td>\n",
       "    </tr>\n",
       "    <tr>\n",
       "      <th>2020-11-08</th>\n",
       "      <td>SKU6</td>\n",
       "      <td>26445</td>\n",
       "      <td>0.44</td>\n",
       "      <td>1</td>\n",
       "      <td>0</td>\n",
       "      <td>1</td>\n",
       "      <td>-5.95</td>\n",
       "      <td>1</td>\n",
       "      <td>0</td>\n",
       "      <td>0</td>\n",
       "      <td>0</td>\n",
       "      <td>8</td>\n",
       "      <td>2020</td>\n",
       "    </tr>\n",
       "    <tr>\n",
       "      <th>2020-11-15</th>\n",
       "      <td>SKU6</td>\n",
       "      <td>26414</td>\n",
       "      <td>0.44</td>\n",
       "      <td>0</td>\n",
       "      <td>0</td>\n",
       "      <td>0</td>\n",
       "      <td>-7.20</td>\n",
       "      <td>1</td>\n",
       "      <td>0</td>\n",
       "      <td>0</td>\n",
       "      <td>0</td>\n",
       "      <td>15</td>\n",
       "      <td>2020</td>\n",
       "    </tr>\n",
       "  </tbody>\n",
       "</table>\n",
       "<p>1218 rows × 13 columns</p>\n",
       "</div>"
      ],
      "text/plain": [
       "           Product   Sales  Price Discount (%)  In-Store Promo  \\\n",
       "date                                                             \n",
       "2017-02-05    SKU1   27750                0.00               0   \n",
       "2017-02-12    SKU1   29023                0.00               1   \n",
       "2017-02-19    SKU1   45630                0.17               0   \n",
       "2017-02-26    SKU1   26789                0.00               1   \n",
       "2017-03-05    SKU1   41999                0.17               0   \n",
       "...            ...     ...                 ...             ...   \n",
       "2020-10-18    SKU6   96619                0.54               0   \n",
       "2020-10-25    SKU6  115798                0.52               0   \n",
       "2020-11-01    SKU6  152186                0.54               1   \n",
       "2020-11-08    SKU6   26445                0.44               1   \n",
       "2020-11-15    SKU6   26414                0.44               0   \n",
       "\n",
       "            Catalogue Promo  Store End Promo  Google_Mobility  Covid_Flag  \\\n",
       "date                                                                        \n",
       "2017-02-05                0                0             0.00           0   \n",
       "2017-02-12                0                1             0.00           0   \n",
       "2017-02-19                0                0             0.00           0   \n",
       "2017-02-26                0                1             0.00           0   \n",
       "2017-03-05                0                0             0.00           0   \n",
       "...                     ...              ...              ...         ...   \n",
       "2020-10-18                1                0            -7.56           1   \n",
       "2020-10-25                1                0            -8.39           1   \n",
       "2020-11-01                0                1            -7.43           1   \n",
       "2020-11-08                0                1            -5.95           1   \n",
       "2020-11-15                0                0            -7.20           1   \n",
       "\n",
       "            V_DAY  EASTER  CHRISTMAS  day  year  \n",
       "date                                             \n",
       "2017-02-05      0       0          0    5  2017  \n",
       "2017-02-12      1       0          0   12  2017  \n",
       "2017-02-19      0       0          0   19  2017  \n",
       "2017-02-26      0       0          0   26  2017  \n",
       "2017-03-05      0       0          0    5  2017  \n",
       "...           ...     ...        ...  ...   ...  \n",
       "2020-10-18      0       0          0   18  2020  \n",
       "2020-10-25      0       0          0   25  2020  \n",
       "2020-11-01      0       0          0    1  2020  \n",
       "2020-11-08      0       0          0    8  2020  \n",
       "2020-11-15      0       0          0   15  2020  \n",
       "\n",
       "[1218 rows x 13 columns]"
      ]
     },
     "execution_count": 76,
     "metadata": {},
     "output_type": "execute_result"
    }
   ],
   "source": [
    "df_copied = data.copy()\n",
    "df_copied"
   ]
  },
  {
   "cell_type": "code",
   "execution_count": 60,
   "id": "dc73a28a",
   "metadata": {
    "scrolled": false
   },
   "outputs": [
    {
     "data": {
      "text/plain": [
       "Product               0\n",
       "Sales                 0\n",
       "Price Discount (%)    0\n",
       "In-Store Promo        0\n",
       "Catalogue Promo       0\n",
       "Store End Promo       0\n",
       "Google_Mobility       0\n",
       "Covid_Flag            0\n",
       "V_DAY                 0\n",
       "EASTER                0\n",
       "CHRISTMAS             0\n",
       "day                   0\n",
       "year                  0\n",
       "dtype: int64"
      ]
     },
     "execution_count": 60,
     "metadata": {},
     "output_type": "execute_result"
    }
   ],
   "source": [
    "df_copied.isna().sum()"
   ]
  },
  {
   "cell_type": "code",
   "execution_count": null,
   "id": "c8f60e82",
   "metadata": {},
   "outputs": [],
   "source": []
  },
  {
   "cell_type": "code",
   "execution_count": 23,
   "id": "d60e0ec9",
   "metadata": {},
   "outputs": [
    {
     "name": "stdout",
     "output_type": "stream",
     "text": [
      "Sales                 0.903676\n",
      "Price Discount (%)    0.014516\n",
      "In-Store Promo        2.835772\n",
      "Catalogue Promo       1.558416\n",
      "Store End Promo       2.195335\n",
      "Google_Mobility      -1.228360\n",
      "Covid_Flag            1.623200\n",
      "V_DAY                 0.425154\n",
      "EASTER                0.425154\n",
      "CHRISTMAS             0.416028\n",
      "dtype: float64\n"
     ]
    }
   ],
   "source": [
    "#Skewness \n",
    "#Skew = 3 * (Mean – Median) / Standard Deviation.\n",
    "median = data[['Sales', 'Price Discount (%)', 'In-Store Promo',\n",
    "       'Catalogue Promo', 'Store End Promo', 'Google_Mobility', 'Covid_Flag',\n",
    "       'V_DAY', 'EASTER', 'CHRISTMAS']].median()\n",
    "Skewness = 3 * (mean - median) / stdn\n",
    "print(Skewness)"
   ]
  },
  {
   "cell_type": "code",
   "execution_count": 24,
   "id": "3047fe48",
   "metadata": {},
   "outputs": [
    {
     "name": "stdout",
     "output_type": "stream",
     "text": [
      "0.8647585920797086\n"
     ]
    }
   ],
   "source": [
    "#Sales Outliers\n",
    "ZscoreSales = data['Sales'].mean() / data['Sales'].std()\n",
    "print(ZscoreSales)"
   ]
  },
  {
   "cell_type": "code",
   "execution_count": 25,
   "id": "749e41d1",
   "metadata": {},
   "outputs": [
    {
     "data": {
      "text/plain": [
       "<AxesSubplot:xlabel='Sales'>"
      ]
     },
     "execution_count": 25,
     "metadata": {},
     "output_type": "execute_result"
    },
    {
     "data": {
      "image/png": "[encoded data removed]",
      "text/plain": [
       "<Figure size 640x480 with 1 Axes>"
      ]
     },
     "metadata": {},
     "output_type": "display_data"
    }
   ],
   "source": [
    "sns.boxplot(x='Sales',data=data)\n"
   ]
  },
  {
   "cell_type": "code",
   "execution_count": 26,
   "id": "886b558b",
   "metadata": {},
   "outputs": [
    {
     "data": {
      "text/plain": [
       "<AxesSubplot:xlabel='Price Discount (%)'>"
      ]
     },
     "execution_count": 26,
     "metadata": {},
     "output_type": "execute_result"
    },
    {
     "data": {
      "image/png": "[encoded data removed]",
      "text/plain": [
       "<Figure size 640x480 with 1 Axes>"
      ]
     },
     "metadata": {},
     "output_type": "display_data"
    }
   ],
   "source": [
    "sns.boxplot(x='Price Discount (%)',data=data)"
   ]
  },
  {
   "cell_type": "code",
   "execution_count": 27,
   "id": "c143f469",
   "metadata": {
    "scrolled": false
   },
   "outputs": [
    {
     "data": {
      "text/plain": [
       "<AxesSubplot:xlabel='Product', ylabel='Google_Mobility'>"
      ]
     },
     "execution_count": 27,
     "metadata": {},
     "output_type": "execute_result"
    },
    {
     "data": {
      "image/png": "[encoded data removed]",
      "text/plain": [
       "<Figure size 640x480 with 1 Axes>"
      ]
     },
     "metadata": {},
     "output_type": "display_data"
    }
   ],
   "source": [
    "sns.barplot(x='Product',y='Google_Mobility',data=data)"
   ]
  },
  {
   "cell_type": "code",
   "execution_count": 112,
   "id": "574712d4",
   "metadata": {},
   "outputs": [
    {
     "ename": "ValueError",
     "evalue": "cannot set using a list-like indexer with a different length than the value",
     "output_type": "error",
     "traceback": [
      "\u001b[1;31m---------------------------------------------------------------------------\u001b[0m",
      "\u001b[1;31mValueError\u001b[0m                                Traceback (most recent call last)",
      "\u001b[1;32m~\\AppData\\Local\\Temp\\ipykernel_20016\\601198852.py\u001b[0m in \u001b[0;36m<module>\u001b[1;34m\u001b[0m\n\u001b[1;32m----> 1\u001b[1;33m \u001b[0msns\u001b[0m\u001b[1;33m.\u001b[0m\u001b[0mlineplot\u001b[0m\u001b[1;33m(\u001b[0m\u001b[0mx\u001b[0m\u001b[1;33m=\u001b[0m\u001b[1;34m\"Product\"\u001b[0m\u001b[1;33m,\u001b[0m \u001b[0my\u001b[0m\u001b[1;33m=\u001b[0m\u001b[1;34m\"date\"\u001b[0m\u001b[1;33m,\u001b[0m\u001b[0mdata\u001b[0m\u001b[1;33m=\u001b[0m\u001b[0mdata\u001b[0m\u001b[1;33m)\u001b[0m\u001b[1;33m\u001b[0m\u001b[1;33m\u001b[0m\u001b[0m\n\u001b[0m",
      "\u001b[1;32mC:\\Anaconda\\lib\\site-packages\\seaborn\\_decorators.py\u001b[0m in \u001b[0;36minner_f\u001b[1;34m(*args, **kwargs)\u001b[0m\n\u001b[0;32m     44\u001b[0m             )\n\u001b[0;32m     45\u001b[0m         \u001b[0mkwargs\u001b[0m\u001b[1;33m.\u001b[0m\u001b[0mupdate\u001b[0m\u001b[1;33m(\u001b[0m\u001b[1;33m{\u001b[0m\u001b[0mk\u001b[0m\u001b[1;33m:\u001b[0m \u001b[0marg\u001b[0m \u001b[1;32mfor\u001b[0m \u001b[0mk\u001b[0m\u001b[1;33m,\u001b[0m \u001b[0marg\u001b[0m \u001b[1;32min\u001b[0m \u001b[0mzip\u001b[0m\u001b[1;33m(\u001b[0m\u001b[0msig\u001b[0m\u001b[1;33m.\u001b[0m\u001b[0mparameters\u001b[0m\u001b[1;33m,\u001b[0m \u001b[0margs\u001b[0m\u001b[1;33m)\u001b[0m\u001b[1;33m}\u001b[0m\u001b[1;33m)\u001b[0m\u001b[1;33m\u001b[0m\u001b[1;33m\u001b[0m\u001b[0m\n\u001b[1;32m---> 46\u001b[1;33m         \u001b[1;32mreturn\u001b[0m \u001b[0mf\u001b[0m\u001b[1;33m(\u001b[0m\u001b[1;33m**\u001b[0m\u001b[0mkwargs\u001b[0m\u001b[1;33m)\u001b[0m\u001b[1;33m\u001b[0m\u001b[1;33m\u001b[0m\u001b[0m\n\u001b[0m\u001b[0;32m     47\u001b[0m     \u001b[1;32mreturn\u001b[0m \u001b[0minner_f\u001b[0m\u001b[1;33m\u001b[0m\u001b[1;33m\u001b[0m\u001b[0m\n\u001b[0;32m     48\u001b[0m \u001b[1;33m\u001b[0m\u001b[0m\n",
      "\u001b[1;32mC:\\Anaconda\\lib\\site-packages\\seaborn\\relational.py\u001b[0m in \u001b[0;36mlineplot\u001b[1;34m(x, y, hue, size, style, data, palette, hue_order, hue_norm, sizes, size_order, size_norm, dashes, markers, style_order, units, estimator, ci, n_boot, seed, sort, err_style, err_kws, legend, ax, **kwargs)\u001b[0m\n\u001b[0;32m    708\u001b[0m     \u001b[0mp\u001b[0m\u001b[1;33m.\u001b[0m\u001b[0m_attach\u001b[0m\u001b[1;33m(\u001b[0m\u001b[0max\u001b[0m\u001b[1;33m)\u001b[0m\u001b[1;33m\u001b[0m\u001b[1;33m\u001b[0m\u001b[0m\n\u001b[0;32m    709\u001b[0m \u001b[1;33m\u001b[0m\u001b[0m\n\u001b[1;32m--> 710\u001b[1;33m     \u001b[0mp\u001b[0m\u001b[1;33m.\u001b[0m\u001b[0mplot\u001b[0m\u001b[1;33m(\u001b[0m\u001b[0max\u001b[0m\u001b[1;33m,\u001b[0m \u001b[0mkwargs\u001b[0m\u001b[1;33m)\u001b[0m\u001b[1;33m\u001b[0m\u001b[1;33m\u001b[0m\u001b[0m\n\u001b[0m\u001b[0;32m    711\u001b[0m     \u001b[1;32mreturn\u001b[0m \u001b[0max\u001b[0m\u001b[1;33m\u001b[0m\u001b[1;33m\u001b[0m\u001b[0m\n\u001b[0;32m    712\u001b[0m \u001b[1;33m\u001b[0m\u001b[0m\n",
      "\u001b[1;32mC:\\Anaconda\\lib\\site-packages\\seaborn\\relational.py\u001b[0m in \u001b[0;36mplot\u001b[1;34m(self, ax, kws)\u001b[0m\n\u001b[0;32m    469\u001b[0m         \u001b[1;31m# Loop over the semantic subsets and add to the plot\u001b[0m\u001b[1;33m\u001b[0m\u001b[1;33m\u001b[0m\u001b[0m\n\u001b[0;32m    470\u001b[0m         \u001b[0mgrouping_vars\u001b[0m \u001b[1;33m=\u001b[0m \u001b[1;34m\"hue\"\u001b[0m\u001b[1;33m,\u001b[0m \u001b[1;34m\"size\"\u001b[0m\u001b[1;33m,\u001b[0m \u001b[1;34m\"style\"\u001b[0m\u001b[1;33m\u001b[0m\u001b[1;33m\u001b[0m\u001b[0m\n\u001b[1;32m--> 471\u001b[1;33m         \u001b[1;32mfor\u001b[0m \u001b[0msub_vars\u001b[0m\u001b[1;33m,\u001b[0m \u001b[0msub_data\u001b[0m \u001b[1;32min\u001b[0m \u001b[0mself\u001b[0m\u001b[1;33m.\u001b[0m\u001b[0miter_data\u001b[0m\u001b[1;33m(\u001b[0m\u001b[0mgrouping_vars\u001b[0m\u001b[1;33m,\u001b[0m \u001b[0mfrom_comp_data\u001b[0m\u001b[1;33m=\u001b[0m\u001b[1;32mTrue\u001b[0m\u001b[1;33m)\u001b[0m\u001b[1;33m:\u001b[0m\u001b[1;33m\u001b[0m\u001b[1;33m\u001b[0m\u001b[0m\n\u001b[0m\u001b[0;32m    472\u001b[0m \u001b[1;33m\u001b[0m\u001b[0m\n\u001b[0;32m    473\u001b[0m             \u001b[1;32mif\u001b[0m \u001b[0mself\u001b[0m\u001b[1;33m.\u001b[0m\u001b[0msort\u001b[0m\u001b[1;33m:\u001b[0m\u001b[1;33m\u001b[0m\u001b[1;33m\u001b[0m\u001b[0m\n",
      "\u001b[1;32mC:\\Anaconda\\lib\\site-packages\\seaborn\\_core.py\u001b[0m in \u001b[0;36miter_data\u001b[1;34m(self, grouping_vars, reverse, from_comp_data)\u001b[0m\n\u001b[0;32m    981\u001b[0m \u001b[1;33m\u001b[0m\u001b[0m\n\u001b[0;32m    982\u001b[0m         \u001b[1;32mif\u001b[0m \u001b[0mfrom_comp_data\u001b[0m\u001b[1;33m:\u001b[0m\u001b[1;33m\u001b[0m\u001b[1;33m\u001b[0m\u001b[0m\n\u001b[1;32m--> 983\u001b[1;33m             \u001b[0mdata\u001b[0m \u001b[1;33m=\u001b[0m \u001b[0mself\u001b[0m\u001b[1;33m.\u001b[0m\u001b[0mcomp_data\u001b[0m\u001b[1;33m\u001b[0m\u001b[1;33m\u001b[0m\u001b[0m\n\u001b[0m\u001b[0;32m    984\u001b[0m         \u001b[1;32melse\u001b[0m\u001b[1;33m:\u001b[0m\u001b[1;33m\u001b[0m\u001b[1;33m\u001b[0m\u001b[0m\n\u001b[0;32m    985\u001b[0m             \u001b[0mdata\u001b[0m \u001b[1;33m=\u001b[0m \u001b[0mself\u001b[0m\u001b[1;33m.\u001b[0m\u001b[0mplot_data\u001b[0m\u001b[1;33m\u001b[0m\u001b[1;33m\u001b[0m\u001b[0m\n",
      "\u001b[1;32mC:\\Anaconda\\lib\\site-packages\\seaborn\\_core.py\u001b[0m in \u001b[0;36mcomp_data\u001b[1;34m(self)\u001b[0m\n\u001b[0;32m   1055\u001b[0m                     \u001b[0morig\u001b[0m \u001b[1;33m=\u001b[0m \u001b[0mself\u001b[0m\u001b[1;33m.\u001b[0m\u001b[0mplot_data\u001b[0m\u001b[1;33m[\u001b[0m\u001b[0mvar\u001b[0m\u001b[1;33m]\u001b[0m\u001b[1;33m.\u001b[0m\u001b[0mdropna\u001b[0m\u001b[1;33m(\u001b[0m\u001b[1;33m)\u001b[0m\u001b[1;33m\u001b[0m\u001b[1;33m\u001b[0m\u001b[0m\n\u001b[0;32m   1056\u001b[0m                 \u001b[0mcomp_col\u001b[0m \u001b[1;33m=\u001b[0m \u001b[0mpd\u001b[0m\u001b[1;33m.\u001b[0m\u001b[0mSeries\u001b[0m\u001b[1;33m(\u001b[0m\u001b[0mindex\u001b[0m\u001b[1;33m=\u001b[0m\u001b[0morig\u001b[0m\u001b[1;33m.\u001b[0m\u001b[0mindex\u001b[0m\u001b[1;33m,\u001b[0m \u001b[0mdtype\u001b[0m\u001b[1;33m=\u001b[0m\u001b[0mfloat\u001b[0m\u001b[1;33m,\u001b[0m \u001b[0mname\u001b[0m\u001b[1;33m=\u001b[0m\u001b[0mvar\u001b[0m\u001b[1;33m)\u001b[0m\u001b[1;33m\u001b[0m\u001b[1;33m\u001b[0m\u001b[0m\n\u001b[1;32m-> 1057\u001b[1;33m                 \u001b[0mcomp_col\u001b[0m\u001b[1;33m.\u001b[0m\u001b[0mloc\u001b[0m\u001b[1;33m[\u001b[0m\u001b[0morig\u001b[0m\u001b[1;33m.\u001b[0m\u001b[0mindex\u001b[0m\u001b[1;33m]\u001b[0m \u001b[1;33m=\u001b[0m \u001b[0mpd\u001b[0m\u001b[1;33m.\u001b[0m\u001b[0mto_numeric\u001b[0m\u001b[1;33m(\u001b[0m\u001b[0maxis\u001b[0m\u001b[1;33m.\u001b[0m\u001b[0mconvert_units\u001b[0m\u001b[1;33m(\u001b[0m\u001b[0morig\u001b[0m\u001b[1;33m)\u001b[0m\u001b[1;33m)\u001b[0m\u001b[1;33m\u001b[0m\u001b[1;33m\u001b[0m\u001b[0m\n\u001b[0m\u001b[0;32m   1058\u001b[0m \u001b[1;33m\u001b[0m\u001b[0m\n\u001b[0;32m   1059\u001b[0m                 \u001b[1;32mif\u001b[0m \u001b[0maxis\u001b[0m\u001b[1;33m.\u001b[0m\u001b[0mget_scale\u001b[0m\u001b[1;33m(\u001b[0m\u001b[1;33m)\u001b[0m \u001b[1;33m==\u001b[0m \u001b[1;34m\"log\"\u001b[0m\u001b[1;33m:\u001b[0m\u001b[1;33m\u001b[0m\u001b[1;33m\u001b[0m\u001b[0m\n",
      "\u001b[1;32mC:\\Anaconda\\lib\\site-packages\\pandas\\core\\indexing.py\u001b[0m in \u001b[0;36m__setitem__\u001b[1;34m(self, key, value)\u001b[0m\n\u001b[0;32m    714\u001b[0m \u001b[1;33m\u001b[0m\u001b[0m\n\u001b[0;32m    715\u001b[0m         \u001b[0miloc\u001b[0m \u001b[1;33m=\u001b[0m \u001b[0mself\u001b[0m \u001b[1;32mif\u001b[0m \u001b[0mself\u001b[0m\u001b[1;33m.\u001b[0m\u001b[0mname\u001b[0m \u001b[1;33m==\u001b[0m \u001b[1;34m\"iloc\"\u001b[0m \u001b[1;32melse\u001b[0m \u001b[0mself\u001b[0m\u001b[1;33m.\u001b[0m\u001b[0mobj\u001b[0m\u001b[1;33m.\u001b[0m\u001b[0miloc\u001b[0m\u001b[1;33m\u001b[0m\u001b[1;33m\u001b[0m\u001b[0m\n\u001b[1;32m--> 716\u001b[1;33m         \u001b[0miloc\u001b[0m\u001b[1;33m.\u001b[0m\u001b[0m_setitem_with_indexer\u001b[0m\u001b[1;33m(\u001b[0m\u001b[0mindexer\u001b[0m\u001b[1;33m,\u001b[0m \u001b[0mvalue\u001b[0m\u001b[1;33m,\u001b[0m \u001b[0mself\u001b[0m\u001b[1;33m.\u001b[0m\u001b[0mname\u001b[0m\u001b[1;33m)\u001b[0m\u001b[1;33m\u001b[0m\u001b[1;33m\u001b[0m\u001b[0m\n\u001b[0m\u001b[0;32m    717\u001b[0m \u001b[1;33m\u001b[0m\u001b[0m\n\u001b[0;32m    718\u001b[0m     \u001b[1;32mdef\u001b[0m \u001b[0m_validate_key\u001b[0m\u001b[1;33m(\u001b[0m\u001b[0mself\u001b[0m\u001b[1;33m,\u001b[0m \u001b[0mkey\u001b[0m\u001b[1;33m,\u001b[0m \u001b[0maxis\u001b[0m\u001b[1;33m:\u001b[0m \u001b[0mint\u001b[0m\u001b[1;33m)\u001b[0m\u001b[1;33m:\u001b[0m\u001b[1;33m\u001b[0m\u001b[1;33m\u001b[0m\u001b[0m\n",
      "\u001b[1;32mC:\\Anaconda\\lib\\site-packages\\pandas\\core\\indexing.py\u001b[0m in \u001b[0;36m_setitem_with_indexer\u001b[1;34m(self, indexer, value, name)\u001b[0m\n\u001b[0;32m   1691\u001b[0m             \u001b[0mself\u001b[0m\u001b[1;33m.\u001b[0m\u001b[0m_setitem_with_indexer_split_path\u001b[0m\u001b[1;33m(\u001b[0m\u001b[0mindexer\u001b[0m\u001b[1;33m,\u001b[0m \u001b[0mvalue\u001b[0m\u001b[1;33m,\u001b[0m \u001b[0mname\u001b[0m\u001b[1;33m)\u001b[0m\u001b[1;33m\u001b[0m\u001b[1;33m\u001b[0m\u001b[0m\n\u001b[0;32m   1692\u001b[0m         \u001b[1;32melse\u001b[0m\u001b[1;33m:\u001b[0m\u001b[1;33m\u001b[0m\u001b[1;33m\u001b[0m\u001b[0m\n\u001b[1;32m-> 1693\u001b[1;33m             \u001b[0mself\u001b[0m\u001b[1;33m.\u001b[0m\u001b[0m_setitem_single_block\u001b[0m\u001b[1;33m(\u001b[0m\u001b[0mindexer\u001b[0m\u001b[1;33m,\u001b[0m \u001b[0mvalue\u001b[0m\u001b[1;33m,\u001b[0m \u001b[0mname\u001b[0m\u001b[1;33m)\u001b[0m\u001b[1;33m\u001b[0m\u001b[1;33m\u001b[0m\u001b[0m\n\u001b[0m\u001b[0;32m   1694\u001b[0m \u001b[1;33m\u001b[0m\u001b[0m\n\u001b[0;32m   1695\u001b[0m     \u001b[1;32mdef\u001b[0m \u001b[0m_setitem_with_indexer_split_path\u001b[0m\u001b[1;33m(\u001b[0m\u001b[0mself\u001b[0m\u001b[1;33m,\u001b[0m \u001b[0mindexer\u001b[0m\u001b[1;33m,\u001b[0m \u001b[0mvalue\u001b[0m\u001b[1;33m,\u001b[0m \u001b[0mname\u001b[0m\u001b[1;33m:\u001b[0m \u001b[0mstr\u001b[0m\u001b[1;33m)\u001b[0m\u001b[1;33m:\u001b[0m\u001b[1;33m\u001b[0m\u001b[1;33m\u001b[0m\u001b[0m\n",
      "\u001b[1;32mC:\\Anaconda\\lib\\site-packages\\pandas\\core\\indexing.py\u001b[0m in \u001b[0;36m_setitem_single_block\u001b[1;34m(self, indexer, value, name)\u001b[0m\n\u001b[0;32m   1941\u001b[0m \u001b[1;33m\u001b[0m\u001b[0m\n\u001b[0;32m   1942\u001b[0m         \u001b[1;31m# actually do the set\u001b[0m\u001b[1;33m\u001b[0m\u001b[1;33m\u001b[0m\u001b[0m\n\u001b[1;32m-> 1943\u001b[1;33m         \u001b[0mself\u001b[0m\u001b[1;33m.\u001b[0m\u001b[0mobj\u001b[0m\u001b[1;33m.\u001b[0m\u001b[0m_mgr\u001b[0m \u001b[1;33m=\u001b[0m \u001b[0mself\u001b[0m\u001b[1;33m.\u001b[0m\u001b[0mobj\u001b[0m\u001b[1;33m.\u001b[0m\u001b[0m_mgr\u001b[0m\u001b[1;33m.\u001b[0m\u001b[0msetitem\u001b[0m\u001b[1;33m(\u001b[0m\u001b[0mindexer\u001b[0m\u001b[1;33m=\u001b[0m\u001b[0mindexer\u001b[0m\u001b[1;33m,\u001b[0m \u001b[0mvalue\u001b[0m\u001b[1;33m=\u001b[0m\u001b[0mvalue\u001b[0m\u001b[1;33m)\u001b[0m\u001b[1;33m\u001b[0m\u001b[1;33m\u001b[0m\u001b[0m\n\u001b[0m\u001b[0;32m   1944\u001b[0m         \u001b[0mself\u001b[0m\u001b[1;33m.\u001b[0m\u001b[0mobj\u001b[0m\u001b[1;33m.\u001b[0m\u001b[0m_maybe_update_cacher\u001b[0m\u001b[1;33m(\u001b[0m\u001b[0mclear\u001b[0m\u001b[1;33m=\u001b[0m\u001b[1;32mTrue\u001b[0m\u001b[1;33m,\u001b[0m \u001b[0minplace\u001b[0m\u001b[1;33m=\u001b[0m\u001b[1;32mTrue\u001b[0m\u001b[1;33m)\u001b[0m\u001b[1;33m\u001b[0m\u001b[1;33m\u001b[0m\u001b[0m\n\u001b[0;32m   1945\u001b[0m \u001b[1;33m\u001b[0m\u001b[0m\n",
      "\u001b[1;32mC:\\Anaconda\\lib\\site-packages\\pandas\\core\\internals\\managers.py\u001b[0m in \u001b[0;36msetitem\u001b[1;34m(self, indexer, value)\u001b[0m\n\u001b[0;32m    335\u001b[0m         \u001b[0mFor\u001b[0m \u001b[0mSingleBlockManager\u001b[0m\u001b[1;33m,\u001b[0m \u001b[0mthis\u001b[0m \u001b[0mbacks\u001b[0m \u001b[0ms\u001b[0m\u001b[1;33m[\u001b[0m\u001b[0mindexer\u001b[0m\u001b[1;33m]\u001b[0m \u001b[1;33m=\u001b[0m \u001b[0mvalue\u001b[0m\u001b[1;33m\u001b[0m\u001b[1;33m\u001b[0m\u001b[0m\n\u001b[0;32m    336\u001b[0m         \"\"\"\n\u001b[1;32m--> 337\u001b[1;33m         \u001b[1;32mreturn\u001b[0m \u001b[0mself\u001b[0m\u001b[1;33m.\u001b[0m\u001b[0mapply\u001b[0m\u001b[1;33m(\u001b[0m\u001b[1;34m\"setitem\"\u001b[0m\u001b[1;33m,\u001b[0m \u001b[0mindexer\u001b[0m\u001b[1;33m=\u001b[0m\u001b[0mindexer\u001b[0m\u001b[1;33m,\u001b[0m \u001b[0mvalue\u001b[0m\u001b[1;33m=\u001b[0m\u001b[0mvalue\u001b[0m\u001b[1;33m)\u001b[0m\u001b[1;33m\u001b[0m\u001b[1;33m\u001b[0m\u001b[0m\n\u001b[0m\u001b[0;32m    338\u001b[0m \u001b[1;33m\u001b[0m\u001b[0m\n\u001b[0;32m    339\u001b[0m     \u001b[1;32mdef\u001b[0m \u001b[0mputmask\u001b[0m\u001b[1;33m(\u001b[0m\u001b[0mself\u001b[0m\u001b[1;33m,\u001b[0m \u001b[0mmask\u001b[0m\u001b[1;33m,\u001b[0m \u001b[0mnew\u001b[0m\u001b[1;33m,\u001b[0m \u001b[0malign\u001b[0m\u001b[1;33m:\u001b[0m \u001b[0mbool\u001b[0m \u001b[1;33m=\u001b[0m \u001b[1;32mTrue\u001b[0m\u001b[1;33m)\u001b[0m\u001b[1;33m:\u001b[0m\u001b[1;33m\u001b[0m\u001b[1;33m\u001b[0m\u001b[0m\n",
      "\u001b[1;32mC:\\Anaconda\\lib\\site-packages\\pandas\\core\\internals\\managers.py\u001b[0m in \u001b[0;36mapply\u001b[1;34m(self, f, align_keys, ignore_failures, **kwargs)\u001b[0m\n\u001b[0;32m    302\u001b[0m                     \u001b[0mapplied\u001b[0m \u001b[1;33m=\u001b[0m \u001b[0mb\u001b[0m\u001b[1;33m.\u001b[0m\u001b[0mapply\u001b[0m\u001b[1;33m(\u001b[0m\u001b[0mf\u001b[0m\u001b[1;33m,\u001b[0m \u001b[1;33m**\u001b[0m\u001b[0mkwargs\u001b[0m\u001b[1;33m)\u001b[0m\u001b[1;33m\u001b[0m\u001b[1;33m\u001b[0m\u001b[0m\n\u001b[0;32m    303\u001b[0m                 \u001b[1;32melse\u001b[0m\u001b[1;33m:\u001b[0m\u001b[1;33m\u001b[0m\u001b[1;33m\u001b[0m\u001b[0m\n\u001b[1;32m--> 304\u001b[1;33m                     \u001b[0mapplied\u001b[0m \u001b[1;33m=\u001b[0m \u001b[0mgetattr\u001b[0m\u001b[1;33m(\u001b[0m\u001b[0mb\u001b[0m\u001b[1;33m,\u001b[0m \u001b[0mf\u001b[0m\u001b[1;33m)\u001b[0m\u001b[1;33m(\u001b[0m\u001b[1;33m**\u001b[0m\u001b[0mkwargs\u001b[0m\u001b[1;33m)\u001b[0m\u001b[1;33m\u001b[0m\u001b[1;33m\u001b[0m\u001b[0m\n\u001b[0m\u001b[0;32m    305\u001b[0m             \u001b[1;32mexcept\u001b[0m \u001b[1;33m(\u001b[0m\u001b[0mTypeError\u001b[0m\u001b[1;33m,\u001b[0m \u001b[0mNotImplementedError\u001b[0m\u001b[1;33m)\u001b[0m\u001b[1;33m:\u001b[0m\u001b[1;33m\u001b[0m\u001b[1;33m\u001b[0m\u001b[0m\n\u001b[0;32m    306\u001b[0m                 \u001b[1;32mif\u001b[0m \u001b[1;32mnot\u001b[0m \u001b[0mignore_failures\u001b[0m\u001b[1;33m:\u001b[0m\u001b[1;33m\u001b[0m\u001b[1;33m\u001b[0m\u001b[0m\n",
      "\u001b[1;32mC:\\Anaconda\\lib\\site-packages\\pandas\\core\\internals\\blocks.py\u001b[0m in \u001b[0;36msetitem\u001b[1;34m(self, indexer, value)\u001b[0m\n\u001b[0;32m    944\u001b[0m \u001b[1;33m\u001b[0m\u001b[0m\n\u001b[0;32m    945\u001b[0m         \u001b[1;31m# length checking\u001b[0m\u001b[1;33m\u001b[0m\u001b[1;33m\u001b[0m\u001b[0m\n\u001b[1;32m--> 946\u001b[1;33m         \u001b[0mcheck_setitem_lengths\u001b[0m\u001b[1;33m(\u001b[0m\u001b[0mindexer\u001b[0m\u001b[1;33m,\u001b[0m \u001b[0mvalue\u001b[0m\u001b[1;33m,\u001b[0m \u001b[0mvalues\u001b[0m\u001b[1;33m)\u001b[0m\u001b[1;33m\u001b[0m\u001b[1;33m\u001b[0m\u001b[0m\n\u001b[0m\u001b[0;32m    947\u001b[0m \u001b[1;33m\u001b[0m\u001b[0m\n\u001b[0;32m    948\u001b[0m         \u001b[1;32mif\u001b[0m \u001b[0mis_empty_indexer\u001b[0m\u001b[1;33m(\u001b[0m\u001b[0mindexer\u001b[0m\u001b[1;33m,\u001b[0m \u001b[0marr_value\u001b[0m\u001b[1;33m)\u001b[0m\u001b[1;33m:\u001b[0m\u001b[1;33m\u001b[0m\u001b[1;33m\u001b[0m\u001b[0m\n",
      "\u001b[1;32mC:\\Anaconda\\lib\\site-packages\\pandas\\core\\indexers\\utils.py\u001b[0m in \u001b[0;36mcheck_setitem_lengths\u001b[1;34m(indexer, value, values)\u001b[0m\n\u001b[0;32m    174\u001b[0m                     \u001b[1;32mand\u001b[0m \u001b[0mindexer\u001b[0m\u001b[1;33m.\u001b[0m\u001b[0msum\u001b[0m\u001b[1;33m(\u001b[0m\u001b[1;33m)\u001b[0m \u001b[1;33m==\u001b[0m \u001b[0mlen\u001b[0m\u001b[1;33m(\u001b[0m\u001b[0mvalue\u001b[0m\u001b[1;33m)\u001b[0m\u001b[1;33m\u001b[0m\u001b[1;33m\u001b[0m\u001b[0m\n\u001b[0;32m    175\u001b[0m                 ):\n\u001b[1;32m--> 176\u001b[1;33m                     raise ValueError(\n\u001b[0m\u001b[0;32m    177\u001b[0m                         \u001b[1;34m\"cannot set using a list-like indexer \"\u001b[0m\u001b[1;33m\u001b[0m\u001b[1;33m\u001b[0m\u001b[0m\n\u001b[0;32m    178\u001b[0m                         \u001b[1;34m\"with a different length than the value\"\u001b[0m\u001b[1;33m\u001b[0m\u001b[1;33m\u001b[0m\u001b[0m\n",
      "\u001b[1;31mValueError\u001b[0m: cannot set using a list-like indexer with a different length than the value"
     ]
    },
    {
     "data": {
      "image/png": "[encoded data removed]",
      "text/plain": [
       "<Figure size 640x480 with 1 Axes>"
      ]
     },
     "metadata": {},
     "output_type": "display_data"
    }
   ],
   "source": [
    "sns.lineplot(x=\"Product\", y=\"date\",data=data)"
   ]
  },
  {
   "cell_type": "code",
   "execution_count": 113,
   "id": "a3093ef5",
   "metadata": {},
   "outputs": [],
   "source": [
    "product_dict = {}\n",
    "count = 0\n",
    "for product in df_copied['Product'].unique():\n",
    "    product_dict[product] = count\n",
    "    count += 1\n",
    "\n",
    "# replace product strings with numerical values using the dictionary\n",
    "df_copied['Product'] = df_copied['Product'].map(product_dict)"
   ]
  },
  {
   "cell_type": "code",
   "execution_count": null,
   "id": "32974b0b",
   "metadata": {},
   "outputs": [],
   "source": []
  },
  {
   "cell_type": "code",
   "execution_count": 121,
   "id": "87a7cb9a",
   "metadata": {},
   "outputs": [],
   "source": [
    "from sklearn.model_selection import train_test_split \n",
    "from sklearn.linear_model import LinearRegression, LogisticRegression\n",
    "from sklearn.preprocessing import LabelEncoder\n",
    "from sklearn import metrics"
   ]
  },
  {
   "cell_type": "code",
   "execution_count": 115,
   "id": "6343a4ba",
   "metadata": {},
   "outputs": [],
   "source": [
    "X = df_copied[['Sales', 'Price Discount (%)', 'In-Store Promo',\n",
    "       'Catalogue Promo', 'Store End Promo', 'Google_Mobility', 'Covid_Flag',\n",
    "       'V_DAY', 'EASTER', 'CHRISTMAS']]\n",
    "y = df_copied['Product']"
   ]
  },
  {
   "cell_type": "code",
   "execution_count": 116,
   "id": "827246b9",
   "metadata": {},
   "outputs": [],
   "source": [
    "encoder = LabelEncoder()\n",
    "y_encoded = encoder.fit_transform(y)"
   ]
  },
  {
   "cell_type": "code",
   "execution_count": 117,
   "id": "8ce5a447",
   "metadata": {},
   "outputs": [],
   "source": [
    "X_train, X_test, y_train, y_test = train_test_split(X, y, test_size=0.33, random_state=101)"
   ]
  },
  {
   "cell_type": "code",
   "execution_count": 118,
   "id": "c7dcc6b3",
   "metadata": {},
   "outputs": [],
   "source": [
    "linearR = LinearRegression()"
   ]
  },
  {
   "cell_type": "code",
   "execution_count": 119,
   "id": "e9b5f81f",
   "metadata": {},
   "outputs": [
    {
     "data": {
      "text/plain": [
       "LinearRegression()"
      ]
     },
     "execution_count": 119,
     "metadata": {},
     "output_type": "execute_result"
    }
   ],
   "source": [
    "linearR.fit(X_train, y_train)"
   ]
  },
  {
   "cell_type": "code",
   "execution_count": 120,
   "id": "89d4ebb3",
   "metadata": {},
   "outputs": [],
   "source": [
    "y_pred = linearR.predict(X_test)"
   ]
  },
  {
   "cell_type": "code",
   "execution_count": 122,
   "id": "bada767d",
   "metadata": {},
   "outputs": [
    {
     "name": "stdout",
     "output_type": "stream",
     "text": [
      "Mean Squared Error: 2.369663640862471\n",
      "Root Mean Squared Error: 1.539371183588439\n",
      "Mean Absolute Error: 1.3244995748177406\n",
      "R-squared score: 0.17030017827372868\n"
     ]
    }
   ],
   "source": [
    "# Calculate metrics\n",
    "mse = metrics.mean_squared_error(y_test, y_pred)\n",
    "rmse = np.sqrt(mse)\n",
    "mae = metrics.mean_absolute_error(y_test, y_pred)\n",
    "r2_score = metrics.r2_score(y_test, y_pred)\n",
    "\n",
    "# Print metrics\n",
    "print('Mean Squared Error:', mse)\n",
    "print('Root Mean Squared Error:', rmse)\n",
    "print('Mean Absolute Error:', mae)\n",
    "print('R-squared score:', r2_score)"
   ]
  },
  {
   "cell_type": "code",
   "execution_count": null,
   "id": "98f54c0c",
   "metadata": {},
   "outputs": [],
   "source": []
  },
  {
   "cell_type": "code",
   "execution_count": null,
   "id": "edc9d693",
   "metadata": {},
   "outputs": [],
   "source": []
  },
  {
   "cell_type": "code",
   "execution_count": null,
   "id": "0efa42bb",
   "metadata": {},
   "outputs": [],
   "source": []
  },
  {
   "cell_type": "code",
   "execution_count": 29,
   "id": "6de2b63f",
   "metadata": {},
   "outputs": [],
   "source": [
    "# To perform multiprocessing or parallel computing of 5 ML models in Python using PySpark, you can follow these steps:\n",
    "\n",
    "#     Import the necessary PySpark modules and libraries:\n",
    "\n",
    "# python\n",
    "\n",
    "# from pyspark import SparkContext, SparkConf\n",
    "# from pyspark.sql import SparkSession\n",
    "# from pyspark.ml.classification import LogisticRegression, RandomForestClassifier, DecisionTreeClassifier, NaiveBayes, GBTClassifier\n",
    "# from pyspark.ml.evaluation import MulticlassClassificationEvaluator\n",
    "\n",
    "#     Create a SparkConf and SparkContext:\n",
    "\n",
    "# scss\n",
    "\n",
    "# conf = SparkConf().setAppName(\"Parallel_Modeling\")\n",
    "# sc = SparkContext(conf=conf)\n",
    "\n",
    "#     Create a SparkSession:\n",
    "\n",
    "# makefile\n",
    "\n",
    "# spark = SparkSession.builder.appName(\"Parallel_Modeling\").getOrCreate()\n",
    "\n",
    "#     Load the data into a PySpark DataFrame:\n",
    "\n",
    "# python\n",
    "\n",
    "# data = spark.read.csv('data.csv', header=True, inferSchema=True)\n",
    "\n",
    "#     Split the data into training and testing sets:\n",
    "\n",
    "# css\n",
    "\n",
    "# trainingData, testData = data.randomSplit([0.7, 0.3], seed=100)\n",
    "\n",
    "#     Create a list of ML models to be parallelized:\n",
    "\n",
    "# css\n",
    "\n",
    "# models = [LogisticRegression(), RandomForestClassifier(), DecisionTreeClassifier(), NaiveBayes(), GBTClassifier()]\n",
    "\n",
    "#     Define a function to train and evaluate the models in parallel:\n",
    "\n",
    "# python\n",
    "\n",
    "# def train_and_evaluate(model):\n",
    "#     model_name = type(model).__name__\n",
    "#     print(f'Training {model_name}...')\n",
    "#     model.fit(trainingData)\n",
    "#     predictions = model.transform(testData)\n",
    "#     evaluator = MulticlassClassificationEvaluator(labelCol='label', predictionCol='prediction', metricName='accuracy')\n",
    "#     accuracy = evaluator.evaluate(predictions)\n",
    "#     print(f'{model_name} accuracy: {accuracy}')\n",
    "#     return (model_name, accuracy)\n",
    "\n",
    "#     Use PySpark's parallelize() method to parallelize the training and evaluation of the models:\n",
    "\n",
    "# scss\n",
    "\n",
    "# results = sc.parallelize(models).map(train_and_evaluate).collect()\n",
    "\n",
    "#     Display the results:\n",
    "\n",
    "# sql\n",
    "\n",
    "# for result in results:\n",
    "#     print(result)\n",
    "\n",
    "# This will train and evaluate the 5 ML models in parallel using PySpark, and output their accuracy scores.\n"
   ]
  }
 ],
 "metadata": {
  "kernelspec": {
   "display_name": "Python 3 (ipykernel)",
   "language": "python",
   "name": "python3"
  },
  "language_info": {
   "codemirror_mode": {
    "name": "ipython",
    "version": 3
   },
   "file_extension": ".py",
   "mimetype": "text/x-python",
   "name": "python",
   "nbconvert_exporter": "python",
   "pygments_lexer": "ipython3",
   "version": "3.9.13"
  }
 },
 "nbformat": 4,
 "nbformat_minor": 5
}
